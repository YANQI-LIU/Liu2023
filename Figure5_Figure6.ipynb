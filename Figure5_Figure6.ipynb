{
 "cells": [
  {
   "cell_type": "markdown",
   "id": "ccc9c616-96ad-4e33-9e38-d4ba9eb8251b",
   "metadata": {},
   "source": [
    "## Custom written code to generate Figure 5 and Figure 6 for Liu 2023\n",
    "\n",
    "Figure 5. Top 75 innervated region\n",
    "\n",
    "Figure 6. Categorical and spatial correlation between all samples\n",
    "\n",
    "Note that must obtain intermediate files (xlsx files) from notebook for Figure 3 and 4 "
   ]
  },
  {
   "cell_type": "code",
   "execution_count": null,
   "id": "cb9e70ef-93bf-4772-bfe7-b7f7c19f62c4",
   "metadata": {},
   "outputs": [],
   "source": [
    "import os\n",
    "import numpy as np\n",
    "import seaborn as sns\n",
    "\n",
    "import pandas as pd\n",
    "pd.options.mode.chained_assignment = None \n",
    "# disable the chained assignment warning\n",
    "\n",
    "import re\n",
    "\n",
    "import matplotlib.pyplot as plt\n",
    "from matplotlib.colors import LogNorm, Normalize\n",
    "from matplotlib.ticker import MaxNLocator\n",
    "\n",
    "# use seaborn for easier logrithmic color scale\n",
    "\n",
    "import itertools\n",
    "# use itertool to flatten list of list"
   ]
  },
  {
   "cell_type": "raw",
   "id": "ea311b5f-fd8c-4f14-858a-29187bcdb909",
   "metadata": {},
   "source": [
    "\n",
    "Sections neede for fig 5\n",
    "1. generate average excel from individual excels\n",
    "2. load and prepare avg excel\n",
    "3. plot first x from avg excel by rank\n",
    "\n",
    "\n",
    "section neede for fig6\n",
    "load individual excel file\n",
    "\n",
    "spatial data- need the csv file from sk learn first"
   ]
  }
 ],
 "metadata": {
  "kernelspec": {
   "display_name": "analysis",
   "language": "python",
   "name": "analysis"
  },
  "language_info": {
   "codemirror_mode": {
    "name": "ipython",
    "version": 3
   },
   "file_extension": ".py",
   "mimetype": "text/x-python",
   "name": "python",
   "nbconvert_exporter": "python",
   "pygments_lexer": "ipython3",
   "version": "3.10.6"
  }
 },
 "nbformat": 4,
 "nbformat_minor": 5
}
